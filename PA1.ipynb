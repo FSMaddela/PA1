{
 "cells": [
  {
   "cell_type": "code",
   "execution_count": 47,
   "id": "7cb50750-230c-4a90-866f-e28b1298f283",
   "metadata": {},
   "outputs": [
    {
     "name": "stdin",
     "output_type": "stream",
     "text": [
      "Sample Word: maddela\n"
     ]
    },
    {
     "name": "stdout",
     "output_type": "stream",
     "text": [
      "aaddelm\n"
     ]
    }
   ],
   "source": [
    "#Alphabet Soup Problem\n",
    "\n",
    "#alphabet_soup function to sort string\n",
    "def alphabet_soup(x):\n",
    "    #sorts the individual characters then joins them together using ''.join\n",
    "    return ''.join(sorted(x))\n",
    "\n",
    "#requests user input for custom words\n",
    "i = input(\"Sample Word:\")\n",
    "print (alphabet_soup(i))\n"
   ]
  },
  {
   "cell_type": "code",
   "execution_count": 49,
   "id": "36374776-0377-4808-956d-a821d21f5b01",
   "metadata": {},
   "outputs": [
    {
     "name": "stdin",
     "output_type": "stream",
     "text": [
      "Sample Sentence: I can smile and grin because I am neither sad nor mad\n"
     ]
    },
    {
     "name": "stdout",
     "output_type": "stream",
     "text": [
      "I can :) and :D because I am neither :(( nor >:(\n"
     ]
    }
   ],
   "source": [
    "#Emoticon Problem\n",
    "\n",
    "#emotify function to replace specific words to emoticons\n",
    "def emotify(phrase):\n",
    "    phrase=phrase.replace(\"smile\",\":)\")\n",
    "    phrase=phrase.replace(\"grin\",\":D\")\n",
    "    phrase=phrase.replace(\"sad\",\":((\")\n",
    "    phrase=phrase.replace(\"mad\",\">:(\")\n",
    "    return phrase\n",
    "\n",
    "#requests user input for custom sentences\n",
    "i = input(\"Sample Sentence:\")\n",
    "print (emotify(i))\n"
   ]
  },
  {
   "cell_type": "code",
   "execution_count": 45,
   "id": "b88dbc0b-6b2d-4990-ba91-7212f6586ab2",
   "metadata": {},
   "outputs": [
    {
     "name": "stdout",
     "output_type": "stream",
     "text": [
      "First:  1\n",
      "Middle:  [2, 3, 4, 5]\n",
      "Last:  6\n"
     ]
    }
   ],
   "source": [
    "#Unpacking list problem\n",
    "\n",
    "#unpack function to separate the list into three variables\n",
    "def unpack(list):\n",
    "    #assigns the first element to a, and the last element to c; *b gets assigned the remaining elements\n",
    "    a, *b, c = list\n",
    "    #prints the three variables and the elements contained in each one\n",
    "    print (\"First: \",a)\n",
    "    print (\"Middle: \",b)\n",
    "    print (\"Last: \",c)\n",
    "\n",
    "#output\n",
    "test_list = [1,2,3,4,5,6]\n",
    "unpack(test_list)"
   ]
  },
  {
   "cell_type": "code",
   "execution_count": null,
   "id": "c23d9853-ed13-4550-9737-4eb104d58239",
   "metadata": {},
   "outputs": [],
   "source": []
  }
 ],
 "metadata": {
  "kernelspec": {
   "display_name": "Python 3 (ipykernel)",
   "language": "python",
   "name": "python3"
  },
  "language_info": {
   "codemirror_mode": {
    "name": "ipython",
    "version": 3
   },
   "file_extension": ".py",
   "mimetype": "text/x-python",
   "name": "python",
   "nbconvert_exporter": "python",
   "pygments_lexer": "ipython3",
   "version": "3.12.4"
  }
 },
 "nbformat": 4,
 "nbformat_minor": 5
}
